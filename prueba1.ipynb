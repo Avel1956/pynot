{
 "cells": [
  {
   "cell_type": "heading",
   "metadata": {},
   "level": 1,
   "source": [
    "Text analysis"
   ]
  },
  {
   "cell_type": "heading",
   "metadata": {},
   "level": 2,
   "source": [
    "Preprocessing\n",
    "\n",
    "\n"
   ]
  },
  {
   "cell_type": "markdown",
   "metadata": {},
   "source": [
    "Preliminary relevant libraries"
   ]
  },
  {
   "cell_type": "code",
   "execution_count": 4,
   "metadata": {},
   "outputs": [],
   "source": [
    "import matplotlib\n",
    "import numpy\n",
    "import nltk\n",
    "import re\n",
    "import string\n",
    "import csv\n",
    "from nltk.corpus import gutenberg\n",
    "from collections import Counter\n",
    "from pprint import pprint"
   ]
  },
  {
   "cell_type": "markdown",
   "metadata": {},
   "source": [
    "Read corpus\n",
    "TODO: implementation of Gui or user input selection of corpus archives "
   ]
  },
  {
   "cell_type": "code",
   "execution_count": 5,
   "metadata": {},
   "outputs": [],
   "source": [
    "mar = open('literature_moby.txt', 'r', encoding='utf8')\n",
    "mart = mar.read()\n",
    "mar.close()\n",
    "texrec = open('filosofia_zara.txt', 'r', encoding='utf8')\n",
    "texrect = texrec.read()\n",
    "texrec.close()\n",
    "corpus = [mart, texrect]"
   ]
  },
  {
   "cell_type": "heading",
   "metadata": {},
   "level": 2,
   "source": [
    "Processing\n"
   ]
  },
  {
   "cell_type": "heading",
   "metadata": {},
   "level": 3,
   "source": [
    "Splitting and Tokenization"
   ]
  },
  {
   "cell_type": "markdown",
   "metadata": {},
   "source": [
    "Tokenization function"
   ]
  },
  {
   "cell_type": "code",
   "execution_count": 6,
   "metadata": {},
   "outputs": [],
   "source": [
    "def tokenize_text(text):\n",
    "    sentences = nltk.sent_tokenize(text)\n",
    "    word_tokens = [nltk.word_tokenize(sentence) for sentence in sentences]\n",
    "    return word_tokens\n"
   ]
  },
  {
   "cell_type": "markdown",
   "metadata": {},
   "source": [
    "Tokenization execution"
   ]
  },
  {
   "cell_type": "code",
   "execution_count": 7,
   "metadata": {},
   "outputs": [],
   "source": [
    "token_list = [tokenize_text(text) for text in corpus]"
   ]
  },
  {
   "cell_type": "markdown",
   "metadata": {},
   "source": [
    "Filter special characters, Function\n"
   ]
  },
  {
   "cell_type": "code",
   "execution_count": 8,
   "metadata": {},
   "outputs": [],
   "source": [
    "def filter_symb(tokens):\n",
    "    pattern = re.compile('[{}]'.format(re.escape(string.punctuation)))\n",
    "    filtered_tokens = filter(None, [pattern.sub('', token) for token in tokens])\n",
    "    return filtered_tokens"
   ]
  },
  {
   "cell_type": "markdown",
   "metadata": {},
   "source": [
    "Filter special characters, execution\n"
   ]
  },
  {
   "cell_type": "code",
   "execution_count": 9,
   "metadata": {},
   "outputs": [],
   "source": [
    "fil = [filter(None, [filter_symb(tokens)\n",
    "                     for tokens in sentence_tokens])\n",
    "       for sentence_tokens in token_list]"
   ]
  },
  {
   "cell_type": "markdown",
   "metadata": {},
   "source": [
    "Filter non relevant words, function"
   ]
  },
  {
   "cell_type": "code",
   "execution_count": 10,
   "metadata": {},
   "outputs": [],
   "source": [
    "def remove_stopwords(tokens):\n",
    "    stopword_list = nltk.corpus.stopwords.words('english')\n",
    "    filtered_tokens = [token for token in tokens if token not in stopword_list]\n",
    "    return filtered_tokens\n"
   ]
  },
  {
   "cell_type": "markdown",
   "metadata": {},
   "source": [
    "Filter non relevant words, execution"
   ]
  },
  {
   "cell_type": "code",
   "execution_count": 11,
   "metadata": {},
   "outputs": [],
   "source": [
    "fil3 = [[remove_stopwords(tokens) for tokens in sentence_tokens] for sentence_tokens in fil]"
   ]
  },
  {
   "cell_type": "markdown",
   "metadata": {},
   "source": [
    "To DO: Split text by: Headers and paragraphs"
   ]
  },
  {
   "cell_type": "heading",
   "metadata": {},
   "level": 1,
   "source": [
    "Analysis"
   ]
  },
  {
   "cell_type": "markdown",
   "metadata": {},
   "source": [
    "Building of word vectors (one for each text in corpus)\n",
    "TODO: Building of Header and paragraph vectors"
   ]
  },
  {
   "cell_type": "code",
   "execution_count": 12,
   "metadata": {},
   "outputs": [],
   "source": [
    "m = []\n",
    "for list in fil3[0]:\n",
    "    for x in list:\n",
    "        m.append(x)\n",
    "\n",
    "t = []\n",
    "for list in fil3[1]:\n",
    "    for x in list:\n",
    "        t.append(x)"
   ]
  },
  {
   "cell_type": "markdown",
   "metadata": {},
   "source": [
    "Word count and frecuency of the most used"
   ]
  },
  {
   "cell_type": "code",
   "execution_count": 13,
   "metadata": {},
   "outputs": [],
   "source": [
    "ocm = Counter(m)\n",
    "comm = ocm.most_common(30)\n",
    "\n",
    "octt = Counter(t)\n",
    "comt = octt.most_common(30)"
   ]
  },
  {
   "cell_type": "markdown",
   "metadata": {},
   "source": [
    "Saving word count in .cvs for future analysis"
   ]
  },
  {
   "cell_type": "code",
   "execution_count": 14,
   "metadata": {},
   "outputs": [],
   "source": [
    "with open('moby.csv', encoding='utf-8-sig', mode='w') as fp:\n",
    "    fp.write('pal|freq\\n')\n",
    "    for tag, count in ocm.items():\n",
    "        fp.write('{}|{}\\n'.format(tag, count))\n",
    "\n",
    "with open('zara.csv', encoding='utf-8-sig', mode='w') as fp:\n",
    "    fp.write('pal|freq\\n')\n",
    "    for tag, count in octt.items():\n",
    "        fp.write('{}|{}\\n'.format(tag, count))"
   ]
  },
  {
   "cell_type": "markdown",
   "metadata": {},
   "source": [
    "Frecuency calculation (25 most frecuent words)"
   ]
  },
  {
   "cell_type": "code",
   "execution_count": 15,
   "metadata": {},
   "outputs": [
    {
     "data": {
      "image/png": "[encoded data removed]",
      "text/plain": [
       "<matplotlib.figure.Figure at 0x1a749988a20>"
      ]
     },
     "metadata": {},
     "output_type": "display_data"
    },
    {
     "data": {
      "image/png": "[encoded data removed]",
      "text/plain": [
       "<matplotlib.figure.Figure at 0x1a7498107f0>"
      ]
     },
     "metadata": {},
     "output_type": "display_data"
    }
   ],
   "source": [
    "from nltk import FreqDist\n",
    "\n",
    "fdist1 = FreqDist(ocm)\n",
    "fdist1.plot(25, cumulative=True)\n",
    "\n",
    "fdist2 = FreqDist(octt)\n",
    "fdist2.plot(25, cumulative=True)"
   ]
  },
  {
   "cell_type": "markdown",
   "metadata": {},
   "source": [
    "Frecuency dispersion map"
   ]
  },
  {
   "cell_type": "code",
   "execution_count": 22,
   "metadata": {},
   "outputs": [
    {
     "name": "stdout",
     "output_type": "stream",
     "text": [
      "Displaying 25 of 93 matches:\n True History ” “ He visited country also view catching horsewhales bones grea\n ’ voice obey ” —N E Primer “ We saw also abundance large whales southern seas\nmidable weapon either extremity body also frequently displays disposition empl\n lashed thrown upon floor one corner also large seaman ’ bag containing harpoo\nand oil true enough like Canaan land also corn wine The streets run milk sprin\ncity seems Socratic wisdom I noticed also Queequeg never consorted little seam\ng Nantucket seeing spent wages place also poor Queequeg gave lost Thought ’ wi\nah ” I little alarmed energy perhaps also little touched hearty grief concludi\n awhaling find experience whaling ye also want go order see world Was ye said \nforce globular brain ponderous heart also stillness seclusion many long nightw\ng respective duties ship ’ company I also aware green hand whaling lay would l\neyes went mumbling— “ treasure heart also ” “ I going put three hundredth ” sa\nknow unless cruel loss leg And yet I also felt strange awe sort awe I describe\n kill insult person person ’ believe also But man ’ religion becomes really fr\nrs doctors bakers bankers And though also holds true merchant vessels yet mean\nfilements Butchers true But butchers also butchers bloodiest badge Martial Com\nalling sailor watch sent ivory stool also pipe Lighting pipe binnacle lamp pla\nngland Greenland Right Whale It idea also spermaceti quickening humor Greenlan\nle word literally expresses In times also spermaceti exceedingly scarce used l\niently distinguish since sperm whale also hump though smaller one His oil valu\neparations brought immense prices It also distilled volatile salts fainting la\ns whaling ground command ship ’ deck also therefore grand political maxim sea \n point time Starbuck Stubb start yet also privilege lounging rear If Stubb eve\neur beyond mortals go Admiral Nelson also capstan gunmetal stands masthead Tra\nd crow ’ snest tells us always rifle also fixed rack together powder flask sho\n"
     ]
    }
   ],
   "source": [
    "from nltk.text import Text\n",
    "\n",
    "textListNLTK = Text(m)\n",
    "textListNLTK.concordance('also')\n",
    "marcommon = []\n",
    "for list in comt[0:30]:\n",
    "    for word in list[0]:\n",
    "        marcommon.append(word)"
   ]
  },
  {
   "cell_type": "markdown",
   "metadata": {},
   "source": [
    "TODO: \n",
    "1. Text, header contents and paragraphs complexity evaluation (produces detail in geometric grammar)\n",
    "2. Sentiment analysis to stablish general and particular mood in geometric grammar.\n",
    "3. Lenght analysis to give volume and XYZ scale in geometric grammar.\n",
    "4. Sumarize text, headers and long paragraphs: Controls geometric definition and expansión.\n",
    "5. Similarity analysis of corpus: To find relevant and related paragraphs in the document or between documents.\n",
    "6. Machine learning algorithm to train and extract efficient exploration paths.\n",
    "\n",
    "\n"
   ]
  },
  {
   "cell_type": "heading",
   "metadata": {},
   "level": 1,
   "source": [
    "Geometric Grammar"
   ]
  },
  {
   "cell_type": "markdown",
   "metadata": {},
   "source": [
    "TODO: \n",
    "1. Simplified 2 dimensional framework.\n",
    "2. Define rules for geometric compliance with text parameters.\n",
    "3. First interaction approach."
   ]
  },
  {
   "cell_type": "code",
   "execution_count": null,
   "metadata": {},
   "outputs": [],
   "source": []
  }
 ],
 "metadata": {
  "kernelspec": {
   "display_name": "Python 3 (Spyder)",
   "language": "python3",
   "name": "python3"
  },
  "language_info": {
   "codemirror_mode": {
    "name": "ipython",
    "version": 3
   },
   "file_extension": ".py",
   "mimetype": "text/x-python",
   "name": "python",
   "nbconvert_exporter": "python",
   "pygments_lexer": "ipython3",
   "version": "3.6.3"
  }
 },
 "nbformat": 4,
 "nbformat_minor": 2
}
